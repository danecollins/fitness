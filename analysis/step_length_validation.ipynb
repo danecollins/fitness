{
 "cells": [
  {
   "cell_type": "code",
   "execution_count": 19,
   "id": "5e0cf86e-81a8-4a7b-a9e7-7409fcd38dba",
   "metadata": {},
   "outputs": [],
   "source": [
    "import pandas as pd\n",
    "import numpy as np\n",
    "import matplotlib.pyplot as plt"
   ]
  },
  {
   "cell_type": "code",
   "execution_count": 20,
   "id": "847ae997-2478-4000-acf7-4649f1fe6f65",
   "metadata": {},
   "outputs": [],
   "source": [
    "df = pd.read_json('./data/step_length_data.json')"
   ]
  },
  {
   "cell_type": "code",
   "execution_count": 21,
   "id": "0e2bdc6d-9aba-4c0a-ad0a-a446732fafd0",
   "metadata": {},
   "outputs": [
    {
     "data": {
      "text/plain": [
       "sourceName                  Dane phone 12\n",
       "creationDate    2023-06-18 14:56:22 -0800\n",
       "startDate       2023-06-18 14:50:25 -0800\n",
       "endDate         2023-06-18 14:50:41 -0800\n",
       "stepLength                         26.378\n",
       "HKDevice                      0x280a57250\n",
       "name                               iPhone\n",
       "manufacturer                   Apple Inc.\n",
       "model                              iPhone\n",
       "hardware                         iPhone14\n",
       "software                             16.5\n",
       "Name: 0, dtype: object"
      ]
     },
     "execution_count": 21,
     "metadata": {},
     "output_type": "execute_result"
    }
   ],
   "source": [
    "df.iloc[0]"
   ]
  },
  {
   "cell_type": "code",
   "execution_count": 22,
   "id": "bd506a24-d077-4d19-bb3e-cf5f962a0aaa",
   "metadata": {},
   "outputs": [],
   "source": [
    "# convert date strings to dates\n",
    "df['startDate'] = pd.to_datetime(df.startDate)\n",
    "df['endDate']   = pd.to_datetime(df.endDate)\n",
    "df['creationDate'] = pd.to_datetime(df.creationDate)"
   ]
  },
  {
   "cell_type": "code",
   "execution_count": 23,
   "id": "0c38e843-d2ae-42f2-9ce4-8cee5fc1e8f8",
   "metadata": {},
   "outputs": [
    {
     "data": {
      "text/plain": [
       "sourceName\n",
       "Cindy's iPhone SE    70969\n",
       "Dane phone 12        46060\n",
       "iPhone               19085\n",
       "Dane phone 14        12181\n",
       "Name: count, dtype: int64"
      ]
     },
     "execution_count": 23,
     "metadata": {},
     "output_type": "execute_result"
    }
   ],
   "source": [
    "# what data sources contributed data?\n",
    "df.sourceName.value_counts()"
   ]
  },
  {
   "cell_type": "markdown",
   "id": "14627fa0-e3c6-46a8-b5eb-a730e1ddad5d",
   "metadata": {},
   "source": [
    "An interesting to note here is that the step length data only comes from phone devices (as opposed to watches)."
   ]
  },
  {
   "cell_type": "code",
   "execution_count": 25,
   "id": "e88ce391-9b89-400b-8fd5-1abb72098cef",
   "metadata": {},
   "outputs": [
    {
     "data": {
      "text/plain": [
       "hardware\n",
       "iPhone12    72032\n",
       "iPhone14    46060\n",
       "iPhone13    18022\n",
       "iPhone15    12181\n",
       "Name: count, dtype: int64"
      ]
     },
     "execution_count": 25,
     "metadata": {},
     "output_type": "execute_result"
    }
   ],
   "source": [
    "df.hardware.value_counts()"
   ]
  },
  {
   "cell_type": "markdown",
   "id": "fd523d06-a5b3-46ce-8cc9-b70aeab2d69a",
   "metadata": {},
   "source": [
    "This is interesting as it does not align with completely with the data above.  Also we see that apple uses a different hardware value than the marketing name for the phone. \"Dane phone 12\" (an iPhone 12) matches \"iPhone14\" while \"Dane phone 14\" (an iPhone 14) matches \"iPhone15\". Then we have the other 2 entries where the data does not match between the two identifiers."
   ]
  },
  {
   "cell_type": "code",
   "execution_count": 24,
   "id": "d1ba524d-5602-4005-91c3-6a130fa3b3fb",
   "metadata": {},
   "outputs": [
    {
     "name": "stdout",
     "output_type": "stream",
     "text": [
      "Dane phone 12        has data from 2021/10/01 to 2023/06/26\n",
      "Cindy's iPhone SE    has data from 2020/10/17 to 2023/11/09\n",
      "iPhone               has data from 2020/09/27 to 2023/06/26\n",
      "Dane phone 14        has data from 2023/06/26 to 2023/11/24\n"
     ]
    }
   ],
   "source": [
    "for n in df.sourceName.unique():\n",
    "    min = df[df.sourceName == n].startDate.min()\n",
    "    max = df[df.sourceName == n].startDate.max()\n",
    "    print(f'{n:20s} has data from {min:%Y/%m/%d} to {max:%Y/%m/%d}')"
   ]
  },
  {
   "cell_type": "markdown",
   "id": "1873b60f-49c0-487d-92db-dea00efe58ab",
   "metadata": {},
   "source": [
    "The data overlap here is a little confusing. The device iPhone seems to cover a broader date range than 12 and 14.  Possibly there is some form of device sync that causes this data to appear."
   ]
  },
  {
   "cell_type": "code",
   "execution_count": 12,
   "id": "73ecc07b-1651-4eff-97c0-214a52beeae6",
   "metadata": {},
   "outputs": [
    {
     "name": "stdout",
     "output_type": "stream",
     "text": [
      "Dane phone 12        has data from 5.11811 to 49.6063\n",
      "Cindy's iPhone SE    has data from 11.0236 to 61.4173\n",
      "iPhone               has data from 10.2362 to 43.3071\n",
      "Dane phone 14        has data from 6.69291 to 48.0315\n"
     ]
    }
   ],
   "source": [
    "for n in df.sourceName.unique():\n",
    "    min = df[df.sourceName == n].stepLength.min()\n",
    "    max = df[df.sourceName == n].stepLength.max()\n",
    "    print(f'{n:20s} has data from {min} to {max}')"
   ]
  },
  {
   "cell_type": "markdown",
   "id": "396e5167-0e66-4337-9c18-00cbe1215364",
   "metadata": {},
   "source": [
    "Even more interesting is that the data from iPhone has a smaller range than any of the other devices!"
   ]
  },
  {
   "cell_type": "code",
   "execution_count": 14,
   "id": "801eae94-48d8-40c2-98ca-823296384ce1",
   "metadata": {},
   "outputs": [
    {
     "data": {
      "text/plain": [
       "<Axes: >"
      ]
     },
     "execution_count": 14,
     "metadata": {},
     "output_type": "execute_result"
    },
    {
     "data": {
      "image/png": "[encoded data removed]",
      "text/plain": [
       "<Figure size 640x480 with 1 Axes>"
      ]
     },
     "metadata": {},
     "output_type": "display_data"
    }
   ],
   "source": [
    "df[df.sourceName == 'iPhone'].stepLength.hist(bins=20, range=[10,50])"
   ]
  },
  {
   "cell_type": "markdown",
   "id": "54d880db-3de7-4532-91ef-bc833ab6f2ac",
   "metadata": {},
   "source": [
    "This data seems perfectly reasonable."
   ]
  },
  {
   "cell_type": "code",
   "execution_count": 15,
   "id": "1f316f73-f91f-4bba-b12a-4c67cb163754",
   "metadata": {},
   "outputs": [
    {
     "data": {
      "text/plain": [
       "<Axes: >"
      ]
     },
     "execution_count": 15,
     "metadata": {},
     "output_type": "execute_result"
    },
    {
     "data": {
      "image/png": "[encoded data removed]",
      "text/plain": [
       "<Figure size 640x480 with 1 Axes>"
      ]
     },
     "metadata": {},
     "output_type": "display_data"
    }
   ],
   "source": [
    "df[df.sourceName == \"Cindy's iPhone SE\"].stepLength.hist(bins=20, range=[10,50])"
   ]
  },
  {
   "cell_type": "code",
   "execution_count": 16,
   "id": "019173b1-fef9-4031-a106-53510e17da45",
   "metadata": {},
   "outputs": [
    {
     "data": {
      "text/plain": [
       "<Axes: >"
      ]
     },
     "execution_count": 16,
     "metadata": {},
     "output_type": "execute_result"
    },
    {
     "data": {
      "image/png": "[encoded data removed]",
      "text/plain": [
       "<Figure size 640x480 with 1 Axes>"
      ]
     },
     "metadata": {},
     "output_type": "display_data"
    }
   ],
   "source": [
    "df[df.sourceName == \"Dane phone 12\"].stepLength.hist(bins=20, range=[10,50])"
   ]
  },
  {
   "cell_type": "code",
   "execution_count": 18,
   "id": "905ae6a3-3049-4ac3-bf5d-3c0400e4d34c",
   "metadata": {},
   "outputs": [
    {
     "data": {
      "text/plain": [
       "sourceName              Cindy's iPhone SE\n",
       "creationDate    2023-06-19 07:49:53-08:00\n",
       "startDate       2023-06-19 07:47:53-08:00\n",
       "endDate         2023-06-19 07:47:55-08:00\n",
       "stepLength                        28.3465\n",
       "Name: 100, dtype: object"
      ]
     },
     "execution_count": 18,
     "metadata": {},
     "output_type": "execute_result"
    }
   ],
   "source": [
    "df.iloc[100]"
   ]
  },
  {
   "cell_type": "code",
   "execution_count": null,
   "id": "d63dcf99-28ea-4c62-a300-28578cda4437",
   "metadata": {},
   "outputs": [],
   "source": []
  }
 ],
 "metadata": {
  "kernelspec": {
   "display_name": "Python 3 (ipykernel)",
   "language": "python",
   "name": "python3"
  },
  "language_info": {
   "codemirror_mode": {
    "name": "ipython",
    "version": 3
   },
   "file_extension": ".py",
   "mimetype": "text/x-python",
   "name": "python",
   "nbconvert_exporter": "python",
   "pygments_lexer": "ipython3",
   "version": "3.8.18"
  }
 },
 "nbformat": 4,
 "nbformat_minor": 5
}
