{
 "cells": [
  {
   "cell_type": "code",
   "execution_count": 1,
   "id": "f4a374d6-521d-437d-a2c9-c18ae5e6ec5d",
   "metadata": {},
   "outputs": [],
   "source": [
    "import pandas as pd"
   ]
  },
  {
   "cell_type": "code",
   "execution_count": 2,
   "id": "0a3c8907-e8a0-416b-84e1-5908fd415152",
   "metadata": {},
   "outputs": [
    {
     "name": "stdout",
     "output_type": "stream",
     "text": [
      "/Users/dane/src/fitness/analysis\n"
     ]
    }
   ],
   "source": [
    "%cd ~/src/fitness/analysis"
   ]
  },
  {
   "cell_type": "code",
   "execution_count": 14,
   "id": "cfdd505d-700c-4162-aace-bcb2cdb55774",
   "metadata": {},
   "outputs": [],
   "source": [
    "df = pd.read_json('./blood_pressure_data.json')"
   ]
  },
  {
   "cell_type": "code",
   "execution_count": 15,
   "id": "b186fe80-85bc-4377-8e50-063dc5973d23",
   "metadata": {},
   "outputs": [
    {
     "data": {
      "text/plain": [
       "sourceName                         Kardia\n",
       "creationDate    2023-06-25 08:55:15 -0800\n",
       "startDate       2023-06-18 17:24:22 -0800\n",
       "endDate         2023-06-18 17:24:22 -0800\n",
       "systolic                              117\n",
       "diastolic                              70\n",
       "Name: 0, dtype: object"
      ]
     },
     "execution_count": 15,
     "metadata": {},
     "output_type": "execute_result"
    }
   ],
   "source": [
    "df.iloc[0]"
   ]
  },
  {
   "cell_type": "code",
   "execution_count": 16,
   "id": "a54858b9-59dc-4473-92d1-13b283ff13e9",
   "metadata": {},
   "outputs": [],
   "source": [
    "# convert date strings to dates\n",
    "df['startDate'] = pd.to_datetime(df.startDate)\n",
    "df['endDate']   = pd.to_datetime(df.endDate)\n",
    "df['creationDate'] = pd.to_datetime(df.creationDate)"
   ]
  },
  {
   "cell_type": "code",
   "execution_count": 17,
   "id": "bcee8f45-3f80-4abf-afd2-467a7e6b04ba",
   "metadata": {},
   "outputs": [
    {
     "data": {
      "text/plain": [
       "sourceName\n",
       "OMRON connect    486\n",
       "Kardia           296\n",
       "Health           200\n",
       "Name: count, dtype: int64"
      ]
     },
     "execution_count": 17,
     "metadata": {},
     "output_type": "execute_result"
    }
   ],
   "source": [
    "# what data sources contributed data?\n",
    "df.sourceName.value_counts()"
   ]
  },
  {
   "cell_type": "markdown",
   "id": "f4f02f7c-a62f-4181-8f35-77dc6b7a93c1",
   "metadata": {},
   "source": [
    "This seems reasonable"
   ]
  },
  {
   "cell_type": "code",
   "execution_count": 18,
   "id": "e626cab7-67fb-4805-b9ee-c28e14ec11b7",
   "metadata": {},
   "outputs": [
    {
     "name": "stdout",
     "output_type": "stream",
     "text": [
      "Kardia               has data from 2022/06/06 to 2023/08/18\n",
      "OMRON connect        has data from 2019/01/02 to 2021/06/24\n",
      "Health               has data from 2015/06/06 to 2016/08/05\n"
     ]
    }
   ],
   "source": [
    "for n in df.sourceName.unique():\n",
    "    min = df[df.sourceName == n].startDate.min()\n",
    "    max = df[df.sourceName == n].startDate.max()\n",
    "    print(f'{n:20s} has data from {min:%Y/%m/%d} to {max:%Y/%m/%d}')"
   ]
  },
  {
   "cell_type": "raw",
   "id": "bd04ba15-53c9-4320-8790-bcf3f4bc2ceb",
   "metadata": {},
   "source": [
    "Next let's look at the blood pressure per devices"
   ]
  },
  {
   "cell_type": "code",
   "execution_count": 19,
   "id": "d91486db-c8ce-462f-ad1d-ced079cf2645",
   "metadata": {},
   "outputs": [
    {
     "name": "stdout",
     "output_type": "stream",
     "text": [
      "Kardia               has data ranging from 86 to 147 / 43 to 86\n",
      "OMRON connect        has data ranging from 86 to 141 / 43 to 87\n",
      "Health               has data ranging from 75 to 125 / 49 to 76\n"
     ]
    }
   ],
   "source": [
    "for n in df.sourceName.unique():\n",
    "    smin = df[df.sourceName == n].systolic.min()\n",
    "    smax = df[df.sourceName == n].systolic.max()\n",
    "    dmin = df[df.sourceName == n].diastolic.min()\n",
    "    dmax = df[df.sourceName == n].diastolic.max()\n",
    "    print(f'{n:20s} has data ranging from {smin} to {smax} / {dmin} to {dmax}')"
   ]
  },
  {
   "cell_type": "markdown",
   "id": "5b3bfa76-5f83-44c4-9d56-8973c5120fa2",
   "metadata": {},
   "source": [
    "This seems reasonable while not being that informative. A histogram might be more useful."
   ]
  },
  {
   "cell_type": "code",
   "execution_count": 20,
   "id": "fd9a154a-0c2f-4832-b32b-088d3f12411c",
   "metadata": {},
   "outputs": [
    {
     "data": {
      "text/plain": [
       "<Axes: >"
      ]
     },
     "execution_count": 20,
     "metadata": {},
     "output_type": "execute_result"
    },
    {
     "data": {
      "image/png": "[encoded data removed]",
      "text/plain": [
       "<Figure size 640x480 with 1 Axes>"
      ]
     },
     "metadata": {},
     "output_type": "display_data"
    }
   ],
   "source": [
    "df.systolic.hist(bins=20)"
   ]
  },
  {
   "cell_type": "code",
   "execution_count": 21,
   "id": "3c5325ef-b2b9-4722-a4c9-d125d8a798d2",
   "metadata": {},
   "outputs": [
    {
     "data": {
      "text/plain": [
       "<Axes: >"
      ]
     },
     "execution_count": 21,
     "metadata": {},
     "output_type": "execute_result"
    },
    {
     "data": {
      "image/png": "[encoded data removed]",
      "text/plain": [
       "<Figure size 640x480 with 1 Axes>"
      ]
     },
     "metadata": {},
     "output_type": "display_data"
    }
   ],
   "source": [
    "df.diastolic.hist(bins=20)"
   ]
  },
  {
   "cell_type": "markdown",
   "id": "add93739-ac24-4b08-be8a-c90fa2a2a864",
   "metadata": {},
   "source": [
    "This data seems completely reasonable."
   ]
  },
  {
   "cell_type": "code",
   "execution_count": null,
   "id": "19cedcc8-5ef6-4e07-94f3-7ed409eb33d6",
   "metadata": {},
   "outputs": [],
   "source": []
  }
 ],
 "metadata": {
  "kernelspec": {
   "display_name": "Python 3 (ipykernel)",
   "language": "python",
   "name": "python3"
  },
  "language_info": {
   "codemirror_mode": {
    "name": "ipython",
    "version": 3
   },
   "file_extension": ".py",
   "mimetype": "text/x-python",
   "name": "python",
   "nbconvert_exporter": "python",
   "pygments_lexer": "ipython3",
   "version": "3.8.18"
  }
 },
 "nbformat": 4,
 "nbformat_minor": 5
}
