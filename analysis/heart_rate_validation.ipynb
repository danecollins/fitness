{
 "cells": [
  {
   "cell_type": "code",
   "execution_count": 1,
   "id": "f4a374d6-521d-437d-a2c9-c18ae5e6ec5d",
   "metadata": {},
   "outputs": [],
   "source": [
    "import pandas as pd"
   ]
  },
  {
   "cell_type": "code",
   "execution_count": 10,
   "id": "0a3c8907-e8a0-416b-84e1-5908fd415152",
   "metadata": {},
   "outputs": [
    {
     "name": "stdout",
     "output_type": "stream",
     "text": [
      "/Users/dane/src/fitness/analysis\n"
     ]
    }
   ],
   "source": [
    "%cd ~/src/fitness/analysis"
   ]
  },
  {
   "cell_type": "code",
   "execution_count": 11,
   "id": "cfdd505d-700c-4162-aace-bcb2cdb55774",
   "metadata": {},
   "outputs": [],
   "source": [
    "df = pd.read_json('./data/heart_rate_data.json')"
   ]
  },
  {
   "cell_type": "code",
   "execution_count": 14,
   "id": "b186fe80-85bc-4377-8e50-063dc5973d23",
   "metadata": {},
   "outputs": [
    {
     "data": {
      "text/plain": [
       "Index(['sourceName', 'device', 'creationDate', 'startDate', 'endDate', 'bpm',\n",
       "       'context'],\n",
       "      dtype='object')"
      ]
     },
     "execution_count": 14,
     "metadata": {},
     "output_type": "execute_result"
    }
   ],
   "source": [
    "df.columns"
   ]
  },
  {
   "cell_type": "code",
   "execution_count": 1,
   "id": "a54858b9-59dc-4473-92d1-13b283ff13e9",
   "metadata": {},
   "outputs": [
    {
     "ename": "NameError",
     "evalue": "name 'pd' is not defined",
     "output_type": "error",
     "traceback": [
      "\u001b[0;31m---------------------------------------------------------------------------\u001b[0m",
      "\u001b[0;31mNameError\u001b[0m                                 Traceback (most recent call last)",
      "Cell \u001b[0;32mIn[1], line 2\u001b[0m\n\u001b[1;32m      1\u001b[0m \u001b[38;5;66;03m# convert date strings to dates\u001b[39;00m\n\u001b[0;32m----> 2\u001b[0m df[\u001b[38;5;124m'\u001b[39m\u001b[38;5;124mstartDate\u001b[39m\u001b[38;5;124m'\u001b[39m] \u001b[38;5;241m=\u001b[39m \u001b[43mpd\u001b[49m\u001b[38;5;241m.\u001b[39mto_datetime(df\u001b[38;5;241m.\u001b[39mstartDate)\n\u001b[1;32m      3\u001b[0m df[\u001b[38;5;124m'\u001b[39m\u001b[38;5;124mendDate\u001b[39m\u001b[38;5;124m'\u001b[39m]   \u001b[38;5;241m=\u001b[39m pd\u001b[38;5;241m.\u001b[39mto_datetime(df\u001b[38;5;241m.\u001b[39mendDate)\n\u001b[1;32m      4\u001b[0m df[\u001b[38;5;124m'\u001b[39m\u001b[38;5;124mcreationDate\u001b[39m\u001b[38;5;124m'\u001b[39m] \u001b[38;5;241m=\u001b[39m pd\u001b[38;5;241m.\u001b[39mto_datetime(df\u001b[38;5;241m.\u001b[39mcreationDate)\n",
      "\u001b[0;31mNameError\u001b[0m: name 'pd' is not defined"
     ]
    }
   ],
   "source": [
    "# convert date strings to dates\n",
    "df['startDate'] = pd.to_datetime(df.startDate)\n",
    "df['endDate']   = pd.to_datetime(df.endDate)\n",
    "df['creationDate'] = pd.to_datetime(df.creationDate)"
   ]
  },
  {
   "cell_type": "code",
   "execution_count": 30,
   "id": "bcee8f45-3f80-4abf-afd2-467a7e6b04ba",
   "metadata": {},
   "outputs": [
    {
     "data": {
      "text/plain": [
       "sourceName\n",
       "Dane watch 5          288624\n",
       "Dane's Apple Watch    132234\n",
       "Dane Watch 4           90164\n",
       "Dane Watch 2           86658\n",
       "OMRON connect            486\n",
       "Kardia                   296\n",
       "Health                    71\n",
       "BP                         1\n",
       "Name: count, dtype: int64"
      ]
     },
     "execution_count": 30,
     "metadata": {},
     "output_type": "execute_result"
    }
   ],
   "source": [
    "# what data sources contributed data?\n",
    "df.sourceName.value_counts()"
   ]
  },
  {
   "cell_type": "markdown",
   "id": "f4f02f7c-a62f-4181-8f35-77dc6b7a93c1",
   "metadata": {},
   "source": [
    "First, let's look at the devices that contributed data and the date ranges for each device.  We need to validate this visually and make sure it makes sense based on the devices we have owned."
   ]
  },
  {
   "cell_type": "code",
   "execution_count": 42,
   "id": "e626cab7-67fb-4805-b9ee-c28e14ec11b7",
   "metadata": {},
   "outputs": [
    {
     "name": "stdout",
     "output_type": "stream",
     "text": [
      "Dane watch 5         has data from 2019/09/29 to 2023/07/16\n",
      "Kardia               has data from 2022/06/06 to 2023/08/18\n",
      "OMRON connect        has data from 2019/01/02 to 2021/06/24\n",
      "Dane's Apple Watch   has data from 2015/06/01 to 2023/11/24\n",
      "Health               has data from 2016/03/16 to 2016/08/05\n",
      "BP                   has data from 2017/11/01 to 2017/11/01\n",
      "Dane Watch 2         has data from 2017/11/01 to 2018/09/26\n",
      "Dane Watch 4         has data from 2018/09/26 to 2019/09/29\n"
     ]
    }
   ],
   "source": [
    "for n in df.sourceName.unique():\n",
    "    min = df[df.sourceName == n].startDate.min()\n",
    "    max = df[df.sourceName == n].startDate.max()\n",
    "    print(f'{n:20s} has data from {min:%Y/%m/%d} to {max:%Y/%m/%d}')"
   ]
  },
  {
   "cell_type": "markdown",
   "id": "f6508c30-7c5f-4dac-8c9c-4d3068892935",
   "metadata": {},
   "source": [
    "Next let's look at the heart rates per devices"
   ]
  },
  {
   "cell_type": "code",
   "execution_count": 43,
   "id": "d91486db-c8ce-462f-ad1d-ced079cf2645",
   "metadata": {},
   "outputs": [
    {
     "name": "stdout",
     "output_type": "stream",
     "text": [
      "Dane watch 5         has data from 37 to 207\n",
      "Kardia               has data from 46 to 103\n",
      "OMRON connect        has data from 46 to 79\n",
      "Dane's Apple Watch   has data from 37 to 210\n",
      "Health               has data from 47 to 72\n",
      "BP                   has data from 74 to 74\n",
      "Dane Watch 2         has data from 30 to 210\n",
      "Dane Watch 4         has data from 27 to 206\n"
     ]
    }
   ],
   "source": [
    "for n in df.sourceName.unique():\n",
    "    min = df[df.sourceName == n].bpm.min()\n",
    "    max = df[df.sourceName == n].bpm.max()\n",
    "    print(f'{n:20s} has data from {min} to {max}')"
   ]
  },
  {
   "cell_type": "markdown",
   "id": "5b3bfa76-5f83-44c4-9d56-8973c5120fa2",
   "metadata": {},
   "source": [
    "Here we can see that the apple watch will produce some erroneous results but that is a known issue.  Part of my goal is to determine an algorithm that will filter out the bad measurements from apple watch heart rate data. Overall though the data seems reasonable and appears to have been read in correctly."
   ]
  },
  {
   "cell_type": "code",
   "execution_count": null,
   "id": "fd9a154a-0c2f-4832-b32b-088d3f12411c",
   "metadata": {},
   "outputs": [],
   "source": []
  }
 ],
 "metadata": {
  "kernelspec": {
   "display_name": "Python 3 (ipykernel)",
   "language": "python",
   "name": "python3"
  },
  "language_info": {
   "codemirror_mode": {
    "name": "ipython",
    "version": 3
   },
   "file_extension": ".py",
   "mimetype": "text/x-python",
   "name": "python",
   "nbconvert_exporter": "python",
   "pygments_lexer": "ipython3",
   "version": "3.8.18"
  }
 },
 "nbformat": 4,
 "nbformat_minor": 5
}
