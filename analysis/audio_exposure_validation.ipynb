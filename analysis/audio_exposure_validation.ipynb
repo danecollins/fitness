{
 "cells": [
  {
   "cell_type": "code",
   "execution_count": 1,
   "id": "5e0cf86e-81a8-4a7b-a9e7-7409fcd38dba",
   "metadata": {},
   "outputs": [],
   "source": [
    "import pandas as pd\n",
    "import numpy as np\n",
    "import matplotlib.pyplot as plt"
   ]
  },
  {
   "cell_type": "code",
   "execution_count": 3,
   "id": "847ae997-2478-4000-acf7-4649f1fe6f65",
   "metadata": {},
   "outputs": [],
   "source": [
    "df = pd.read_json('./data/audio_exposure_data.json')"
   ]
  },
  {
   "cell_type": "code",
   "execution_count": 4,
   "id": "0e2bdc6d-9aba-4c0a-ad0a-a446732fafd0",
   "metadata": {},
   "outputs": [
    {
     "data": {
      "text/plain": [
       "sourceName                   Dane watch 5\n",
       "creationDate    2023-05-28 18:31:02 -0800\n",
       "startDate       2023-05-28 18:20:52 -0800\n",
       "endDate         2023-05-28 18:50:52 -0800\n",
       "dbASPL                            69.9462\n",
       "HKDevice                      0x280ac3890\n",
       "name                          Apple Watch\n",
       "manufacturer                   Apple Inc.\n",
       "model                               Watch\n",
       "hardware                           Watch5\n",
       "software                              9.5\n",
       "Name: 0, dtype: object"
      ]
     },
     "execution_count": 4,
     "metadata": {},
     "output_type": "execute_result"
    }
   ],
   "source": [
    "df.iloc[0]"
   ]
  },
  {
   "cell_type": "code",
   "execution_count": 5,
   "id": "bd506a24-d077-4d19-bb3e-cf5f962a0aaa",
   "metadata": {},
   "outputs": [],
   "source": [
    "# convert date strings to dates\n",
    "df['startDate'] = pd.to_datetime(df.startDate)\n",
    "df['endDate']   = pd.to_datetime(df.endDate)\n",
    "df['creationDate'] = pd.to_datetime(df.creationDate)"
   ]
  },
  {
   "cell_type": "code",
   "execution_count": 6,
   "id": "0c38e843-d2ae-42f2-9ce4-8cee5fc1e8f8",
   "metadata": {},
   "outputs": [
    {
     "data": {
      "text/plain": [
       "sourceName\n",
       "Dane watch 5    5829\n",
       "Name: count, dtype: int64"
      ]
     },
     "execution_count": 6,
     "metadata": {},
     "output_type": "execute_result"
    }
   ],
   "source": [
    "# what data sources contributed data?\n",
    "df.sourceName.value_counts()"
   ]
  },
  {
   "cell_type": "code",
   "execution_count": 8,
   "id": "d1ba524d-5602-4005-91c3-6a130fa3b3fb",
   "metadata": {},
   "outputs": [
    {
     "name": "stdout",
     "output_type": "stream",
     "text": [
      "Dane watch 5         has data from 2019/11/01 to 2023/05/30\n"
     ]
    }
   ],
   "source": [
    "for n in df.sourceName.unique():\n",
    "    min = df[df.sourceName == n].startDate.min()\n",
    "    max = df[df.sourceName == n].startDate.max()\n",
    "    print(f'{n:20s} has data from {min:%Y/%m/%d} to {max:%Y/%m/%d}')"
   ]
  },
  {
   "cell_type": "code",
   "execution_count": 7,
   "id": "801eae94-48d8-40c2-98ca-823296384ce1",
   "metadata": {},
   "outputs": [
    {
     "data": {
      "text/plain": [
       "<Axes: >"
      ]
     },
     "execution_count": 7,
     "metadata": {},
     "output_type": "execute_result"
    },
    {
     "data": {
      "image/png": "[encoded data removed]",
      "text/plain": [
       "<Figure size 640x480 with 1 Axes>"
      ]
     },
     "metadata": {},
     "output_type": "display_data"
    }
   ],
   "source": [
    "df.dbASPL.hist(bins=20)"
   ]
  },
  {
   "cell_type": "markdown",
   "id": "54d880db-3de7-4532-91ef-bc833ab6f2ac",
   "metadata": {},
   "source": [
    "This data seems perfectly reasonable."
   ]
  }
 ],
 "metadata": {
  "kernelspec": {
   "display_name": "Python 3 (ipykernel)",
   "language": "python",
   "name": "python3"
  },
  "language_info": {
   "codemirror_mode": {
    "name": "ipython",
    "version": 3
   },
   "file_extension": ".py",
   "mimetype": "text/x-python",
   "name": "python",
   "nbconvert_exporter": "python",
   "pygments_lexer": "ipython3",
   "version": "3.8.18"
  }
 },
 "nbformat": 4,
 "nbformat_minor": 5
}
